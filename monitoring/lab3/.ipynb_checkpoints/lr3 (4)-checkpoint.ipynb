{
 "cells": [
  {
   "cell_type": "code",
   "execution_count": 1,
   "id": "10a12730",
   "metadata": {},
   "outputs": [],
   "source": [
    "import numpy as np"
   ]
  },
  {
   "cell_type": "code",
   "execution_count": 2,
   "id": "64906b6a",
   "metadata": {},
   "outputs": [],
   "source": [
    "# 01 - вертикаль\n",
    "# 10 - горизонталь\n",
    "P = [\n",
    "    11, 10, 11,\n",
    "    11, 10, 11,\n",
    "     1,  0,  0\n",
    "]\n",
    "# E= [11, 10, 10, 11, 10, 0, 11, 10, 10]\n",
    "\n",
    "C = [\n",
    "    11, 10, 10,\n",
    "     1,  0,  0,\n",
    "    11, 10, 10\n",
    "]\n",
    "L = [\n",
    "     1,  0,  0,\n",
    "     1,  0,  0,\n",
    "    11, 10,  10\n",
    "]\n",
    "# O = [\n",
    "#      11, 11,  0,\n",
    "#       1,  1,  0,\n",
    "#      11, 11,  0\n",
    "# ]\n",
    "\n",
    "E = [11, 10, 10, 11, 10, 0, 11, 10, 10]\n",
    "F = [11, 10, 10, 11, 10, 0, 1, 0, 0]\n",
    "H = [1, 0, 1, 11, 10, 11, 1, 0, 1]\n"
   ]
  },
  {
   "cell_type": "code",
   "execution_count": 3,
   "id": "31e73337",
   "metadata": {},
   "outputs": [
    {
     "name": "stdout",
     "output_type": "stream",
     "text": [
      "вектора в десятичной системе:\n",
      "\n",
      "[3, 2, 3, 3, 2, 3, 1, 0, 0]\n",
      "[3, 2, 2, 1, 0, 0, 3, 2, 2]\n",
      "[1, 0, 0, 1, 0, 0, 3, 2, 2]\n"
     ]
    }
   ],
   "source": [
    "# перевод кодов признаков в десятичную систему\n",
    "v1 = list(map(lambda x: int(str(x), 2), P))\n",
    "v2 = list(map(lambda x: int(str(x), 2), C))\n",
    "v3 = list(map(lambda x: int(str(x), 2), L))\n",
    "print(\"вектора в десятичной системе:\\n\\n\" + str(v1) + \"\\n\" + str(v2) + \"\\n\" + str(v3))"
   ]
  },
  {
   "cell_type": "code",
   "execution_count": 4,
   "id": "f9e56344",
   "metadata": {},
   "outputs": [
    {
     "name": "stdout",
     "output_type": "stream",
     "text": [
      "v1:  [1.1111111111111112, 0.11111111111111116, 1.1111111111111112, 1.1111111111111112, 0.11111111111111116, 1.1111111111111112, -0.8888888888888888, -1.8888888888888888, -1.8888888888888888]\n",
      "v2:  [1.3333333333333333, 0.33333333333333326, 0.33333333333333326, -0.6666666666666667, -1.6666666666666667, -1.6666666666666667, 1.3333333333333333, 0.33333333333333326, 0.33333333333333326]\n",
      "v3:  [0.0, -1.0, -1.0, 0.0, -1.0, -1.0, 2.0, 1.0, 1.0]\n"
     ]
    }
   ],
   "source": [
    "# централизация и нормализация\n",
    "\n",
    "avg1 = sum(v1) / len(v1)\n",
    "avg2 = sum(v2) / len(v2)\n",
    "avg3 = sum(v3) / len(v3)\n",
    "v1 =  list(map(lambda x: x - avg1, v1))\n",
    "v2 =  list(map(lambda x: x - avg2, v2))\n",
    "v3 =  list(map(lambda x: x - avg3, v3))\n",
    "\n",
    "print(\"v1: \", v1)\n",
    "print(\"v2: \", v2)\n",
    "print(\"v3: \", v3)\n",
    "\n",
    "ln1 = sum(list(map(lambda x: x*x, v1)))\n",
    "v1 =  list(map(lambda x: x / (ln1 ** 0.5), v1))\n",
    "ln2 = sum(list(map(lambda x: x*x, v2)))\n",
    "v2 =  list(map(lambda x: x / (ln2 ** 0.5), v2))\n",
    "ln3 = sum(list(map(lambda x: x*x, v3)))\n",
    "v3 =  list(map(lambda x: x / (ln3 ** 0.5), v3))"
   ]
  },
  {
   "cell_type": "code",
   "execution_count": 5,
   "id": "bd5b6efc",
   "metadata": {},
   "outputs": [
    {
     "name": "stdout",
     "output_type": "stream",
     "text": [
      "Длины векторов: 1.0, 0.9999999999999998, 1.0\n",
      "Сумма компонентов векторов: 0.0, -2.498001805406602e-16, 0.0\n",
      "\n",
      "Нормализованные вектора:\n",
      "\n",
      "[0.30949223029508643, 0.030949223029508657, 0.30949223029508643, 0.30949223029508643, 0.030949223029508657, 0.30949223029508643, -0.24759378423606915, -0.5261367915016469, -0.5261367915016469]\n",
      "\n",
      "[0.42163702135578385, 0.10540925533894595, 0.10540925533894595, -0.21081851067789198, -0.5270462766947299, -0.5270462766947299, 0.42163702135578385, 0.10540925533894595, 0.10540925533894595]\n",
      "\n",
      "[0.0, -0.31622776601683794, -0.31622776601683794, 0.0, -0.31622776601683794, -0.31622776601683794, 0.6324555320336759, 0.31622776601683794, 0.31622776601683794]\n"
     ]
    }
   ],
   "source": [
    "# проверка\n",
    "ln1 = sum(list(map(lambda x: x*x, v1)))\n",
    "ln2 = sum(list(map(lambda x: x*x, v2)))\n",
    "ln3 = sum(list(map(lambda x: x*x, v3)))\n",
    "\n",
    "print(f\"Длины векторов: {ln1}, {ln2}, {ln3}\")\n",
    "print(f\"Сумма компонентов векторов: {sum(v1)}, {sum(v2)}, {sum(v3)}\")\n",
    "print(\"\\nНормализованные вектора:\\n\\n\" + str(v1) + \"\\n\\n\" + str(v2) + \"\\n\\n\" + str(v3))"
   ]
  },
  {
   "cell_type": "code",
   "execution_count": 6,
   "id": "3fe56cda",
   "metadata": {},
   "outputs": [
    {
     "data": {
      "text/plain": [
       "(9, 9)"
      ]
     },
     "execution_count": 6,
     "metadata": {},
     "output_type": "execute_result"
    }
   ],
   "source": [
    "vp = np.matrix([v1, v2, v3])\n",
    "# w = vp * vp.T\n",
    "w = vp.T * vp\n",
    "w.shape\n",
    "# vp.shape"
   ]
  },
  {
   "cell_type": "code",
   "execution_count": 7,
   "id": "866d8879",
   "metadata": {},
   "outputs": [
    {
     "data": {
      "text/plain": [
       "matrix([[ 0.30949223,  0.03094922,  0.30949223,  0.30949223,  0.03094922,\n",
       "          0.30949223, -0.24759378, -0.52613679, -0.52613679]])"
      ]
     },
     "execution_count": 7,
     "metadata": {},
     "output_type": "execute_result"
    }
   ],
   "source": [
    "vp[0]"
   ]
  },
  {
   "cell_type": "code",
   "execution_count": 8,
   "id": "f4d5ab4c",
   "metadata": {},
   "outputs": [
    {
     "data": {
      "text/plain": [
       "(3, 9)"
      ]
     },
     "execution_count": 8,
     "metadata": {},
     "output_type": "execute_result"
    }
   ],
   "source": [
    "vp.shape"
   ]
  },
  {
   "cell_type": "code",
   "execution_count": 9,
   "id": "e480f1b0",
   "metadata": {},
   "outputs": [
    {
     "data": {
      "text/plain": [
       "matrix([[ 0.38324555,  0.07624781,  0.20717331,  0.02658641, -0.28041134,\n",
       "         -0.14948583,  0.11687986, -0.19011788, -0.19011788],\n",
       "        [ 0.07624781,  0.36857286,  0.221846  , -0.28266867,  0.00965638,\n",
       "         -0.13707048, -0.28041134,  0.01191372,  0.01191372],\n",
       "        [ 0.20717331,  0.221846  ,  0.23764735, -0.07725107, -0.06257838,\n",
       "         -0.04677703, -0.16980186, -0.15512917, -0.15512917],\n",
       "        [ 0.02658641, -0.28266867, -0.07725107,  0.32906948,  0.0198144 ,\n",
       "          0.225232  ,  0.1259092 , -0.18334587, -0.18334587],\n",
       "        [-0.28041134,  0.00965638, -0.06257838,  0.0198144 ,  0.30988212,\n",
       "          0.23764735, -0.27138199,  0.01868573,  0.01868573],\n",
       "        [-0.14948583, -0.13707048, -0.04677703,  0.225232  ,  0.23764735,\n",
       "          0.32794081, -0.16077251, -0.14835716, -0.14835716],\n",
       "        [ 0.11687986, -0.28041134, -0.16980186,  0.1259092 , -0.27138199,\n",
       "         -0.16077251,  0.47805367,  0.08076248,  0.08076248],\n",
       "        [-0.19011788,  0.01191372, -0.15512917, -0.18334587,  0.01868573,\n",
       "         -0.14835716,  0.08076248,  0.28279408,  0.28279408],\n",
       "        [-0.19011788,  0.01191372, -0.15512917, -0.18334587,  0.01868573,\n",
       "         -0.14835716,  0.08076248,  0.28279408,  0.28279408]])"
      ]
     },
     "execution_count": 9,
     "metadata": {},
     "output_type": "execute_result"
    }
   ],
   "source": [
    "a = np.linalg.pinv(w)\n",
    "# a = w.I\n",
    "w*a"
   ]
  },
  {
   "cell_type": "code",
   "execution_count": 10,
   "id": "80922f6e",
   "metadata": {},
   "outputs": [
    {
     "data": {
      "text/plain": [
       "matrix([[ 0.38324555,  0.07624781,  0.20717331,  0.02658641, -0.28041134,\n",
       "         -0.14948583,  0.11687986, -0.19011788, -0.19011788],\n",
       "        [ 0.07624781,  0.36857286,  0.221846  , -0.28266867,  0.00965638,\n",
       "         -0.13707048, -0.28041134,  0.01191372,  0.01191372],\n",
       "        [ 0.20717331,  0.221846  ,  0.23764735, -0.07725107, -0.06257838,\n",
       "         -0.04677703, -0.16980186, -0.15512917, -0.15512917],\n",
       "        [ 0.02658641, -0.28266867, -0.07725107,  0.32906948,  0.0198144 ,\n",
       "          0.225232  ,  0.1259092 , -0.18334587, -0.18334587],\n",
       "        [-0.28041134,  0.00965638, -0.06257838,  0.0198144 ,  0.30988212,\n",
       "          0.23764735, -0.27138199,  0.01868573,  0.01868573],\n",
       "        [-0.14948583, -0.13707048, -0.04677703,  0.225232  ,  0.23764735,\n",
       "          0.32794081, -0.16077251, -0.14835716, -0.14835716],\n",
       "        [ 0.11687986, -0.28041134, -0.16980186,  0.1259092 , -0.27138199,\n",
       "         -0.16077251,  0.47805367,  0.08076248,  0.08076248],\n",
       "        [-0.19011788,  0.01191372, -0.15512917, -0.18334587,  0.01868573,\n",
       "         -0.14835716,  0.08076248,  0.28279408,  0.28279408],\n",
       "        [-0.19011788,  0.01191372, -0.15512917, -0.18334587,  0.01868573,\n",
       "         -0.14835716,  0.08076248,  0.28279408,  0.28279408]])"
      ]
     },
     "execution_count": 10,
     "metadata": {},
     "output_type": "execute_result"
    }
   ],
   "source": [
    "a*w"
   ]
  },
  {
   "cell_type": "code",
   "execution_count": 11,
   "id": "a9b164df",
   "metadata": {},
   "outputs": [
    {
     "data": {
      "text/plain": [
       "matrix([[ 0.53900006,  0.07976545,  0.28416903,  0.07117262, -0.38806199,\n",
       "         -0.1836584 ,  0.17202749, -0.28720713, -0.28720713],\n",
       "        [ 0.07976545,  1.6561514 ,  0.78665652, -1.48904085,  0.0873451 ,\n",
       "         -0.78214977, -1.16383325,  0.4125527 ,  0.4125527 ],\n",
       "        [ 0.28416903,  0.78665652,  0.50366654, -0.61373448, -0.11124699,\n",
       "         -0.39423697, -0.48674954,  0.01573794,  0.01573794],\n",
       "        [ 0.07117262, -1.48904085, -0.61373448,  1.42325764, -0.13695583,\n",
       "          0.73835054,  1.0424591 , -0.51775437, -0.51775437],\n",
       "        [-0.38806199,  0.0873451 , -0.11124699, -0.13695583,  0.33845126,\n",
       "          0.13985917, -0.29340164,  0.18200546,  0.18200546],\n",
       "        [-0.1836584 , -0.78214977, -0.39423697,  0.73835054,  0.13985917,\n",
       "          0.52777197,  0.38368207, -0.2148093 , -0.2148093 ],\n",
       "        [ 0.17202749, -1.16383325, -0.48674954,  1.0424591 , -0.29340164,\n",
       "          0.38368207,  1.00584575, -0.33001499, -0.33001499],\n",
       "        [-0.28720713,  0.4125527 ,  0.01573794, -0.51775437,  0.18200546,\n",
       "         -0.2148093 , -0.33001499,  0.36974484,  0.36974484],\n",
       "        [-0.28720713,  0.4125527 ,  0.01573794, -0.51775437,  0.18200546,\n",
       "         -0.2148093 , -0.33001499,  0.36974484,  0.36974484]])"
      ]
     },
     "execution_count": 11,
     "metadata": {},
     "output_type": "execute_result"
    }
   ],
   "source": [
    "a"
   ]
  },
  {
   "cell_type": "code",
   "execution_count": 12,
   "id": "45799568",
   "metadata": {},
   "outputs": [],
   "source": [
    "# w.I*w"
   ]
  },
  {
   "cell_type": "code",
   "execution_count": 13,
   "id": "5c8414e7",
   "metadata": {},
   "outputs": [
    {
     "data": {
      "text/plain": [
       "matrix([[ 0.30949223],\n",
       "        [ 0.03094922],\n",
       "        [ 0.30949223],\n",
       "        [ 0.30949223],\n",
       "        [ 0.03094922],\n",
       "        [ 0.30949223],\n",
       "        [-0.24759378],\n",
       "        [-0.52613679],\n",
       "        [-0.52613679]])"
      ]
     },
     "execution_count": 13,
     "metadata": {},
     "output_type": "execute_result"
    }
   ],
   "source": [
    "np.matrix([v1]).T"
   ]
  },
  {
   "cell_type": "code",
   "execution_count": 14,
   "id": "6daeae88",
   "metadata": {},
   "outputs": [
    {
     "name": "stdout",
     "output_type": "stream",
     "text": [
      "(9, 9)\n",
      "(9, 1)\n"
     ]
    }
   ],
   "source": [
    "print(w.shape)\n",
    "print(np.matrix([v1]).T.shape)"
   ]
  },
  {
   "cell_type": "code",
   "execution_count": 15,
   "id": "957400b2",
   "metadata": {},
   "outputs": [
    {
     "name": "stdout",
     "output_type": "stream",
     "text": [
      "False\n",
      "Длины векторов: 2.0948081264108342, 1.6478555304740394, 2.9909706546275387\n",
      "Произведения векторов: -0.42285158019230307, 1.7298473735139688, -1.286681715575619\n"
     ]
    },
    {
     "name": "stderr",
     "output_type": "stream",
     "text": [
      "C:\\Users\\sergey.astakhov\\AppData\\Local\\Temp\\ipykernel_6416\\400437016.py:12: DeprecationWarning: Conversion of an array with ndim > 0 to a scalar is deprecated, and will error in future. Ensure you extract a single element from your array before performing this operation. (Deprecated NumPy 1.25.)\n",
      "  v11 = list(map(lambda x: float(x), v11))\n",
      "C:\\Users\\sergey.astakhov\\AppData\\Local\\Temp\\ipykernel_6416\\400437016.py:13: DeprecationWarning: Conversion of an array with ndim > 0 to a scalar is deprecated, and will error in future. Ensure you extract a single element from your array before performing this operation. (Deprecated NumPy 1.25.)\n",
      "  v22 = list(map(lambda x: float(x), v22))\n",
      "C:\\Users\\sergey.astakhov\\AppData\\Local\\Temp\\ipykernel_6416\\400437016.py:14: DeprecationWarning: Conversion of an array with ndim > 0 to a scalar is deprecated, and will error in future. Ensure you extract a single element from your array before performing this operation. (Deprecated NumPy 1.25.)\n",
      "  v33 = list(map(lambda x: float(x), v33))\n"
     ]
    }
   ],
   "source": [
    "v11 = a*np.matrix([v1]).T\n",
    "v22 = a*np.matrix([v2]).T\n",
    "v33 = a*np.matrix([v3]).T\n",
    "\n",
    "\n",
    "# v11 = np.linalg.solve(w, np.matrix([v1]).T)\n",
    "# v22 = np.linalg.solve(w, np.matrix([v2]).T)\n",
    "# v33 = np.linalg.solve(w, np.matrix([v3]).T)\n",
    "\n",
    "print(np.allclose(np.dot(w, np.matrix([v1]).T), v11))\n",
    "\n",
    "v11 = list(map(lambda x: float(x), v11))\n",
    "v22 = list(map(lambda x: float(x), v22))\n",
    "v33 = list(map(lambda x: float(x), v33))\n",
    "\n",
    "ln1 = sum(list(map(lambda x: x*x, v11)))\n",
    "ln2 = sum(list(map(lambda x: x*x, v22)))\n",
    "ln3 = sum(list(map(lambda x: x*x, v33)))\n",
    "\n",
    "print(f\"Длины векторов: {ln1}, {ln2}, {ln3}\")\n",
    "print(f\"Произведения векторов: { np.array(v11) @ np.array(v22)}, { np.array(v11)@ np.array(v33)}, { np.array(v22)@ np.array(v33)}\")"
   ]
  },
  {
   "cell_type": "code",
   "execution_count": 16,
   "id": "a6250914-a857-45ba-a9fd-31fe640f2af1",
   "metadata": {},
   "outputs": [
    {
     "data": {
      "text/plain": [
       "[0.4700369583352917,\n",
       " -0.5267655567550685,\n",
       " 0.0567285984197761,\n",
       " 0.7374717794570949,\n",
       " -0.2593307356332636,\n",
       " 0.3241634195415805,\n",
       " 0.3971001889384358,\n",
       " -0.5997023261519239,\n",
       " -0.5997023261519231]"
      ]
     },
     "execution_count": 16,
     "metadata": {},
     "output_type": "execute_result"
    }
   ],
   "source": [
    "v11"
   ]
  },
  {
   "cell_type": "code",
   "execution_count": 17,
   "id": "f9c80f8e-481a-4736-94af-8837d349e9fe",
   "metadata": {},
   "outputs": [
    {
     "name": "stdout",
     "output_type": "stream",
     "text": [
      "Сопряженные вектора\n",
      "[0.4700369583352917, -0.5267655567550685, 0.0567285984197761, 0.7374717794570949, -0.2593307356332636, 0.3241634195415805, 0.3971001889384358, -0.5997023261519239, -0.5997023261519231]\n",
      "[0.5639276188562116, 0.5674967810008715, 0.4497144302271059, -0.47826772738438167, -0.4746985652397232, -0.5924809160134885, -0.014276648578637698, -0.010707486433978609, -0.01070748643397911]\n",
      "[-0.007138324289318284, -1.0279186976619563, -0.5460818081329146, 0.8066306446930624, -0.2141497286795736, 0.2676871608494679, 0.920843833322169, -0.09993654005046874, -0.09993654005046743]\n"
     ]
    }
   ],
   "source": [
    "print(\"Сопряженные вектора\")\n",
    "print(v11)\n",
    "print(v22)\n",
    "print(v33)"
   ]
  },
  {
   "cell_type": "code",
   "execution_count": 18,
   "id": "a1f5a7eb",
   "metadata": {},
   "outputs": [
    {
     "data": {
      "text/plain": [
       "matrix([[ 0.14547279,  0.01454728,  0.14547279,  0.14547279,  0.01454728,\n",
       "          0.14547279, -0.11637823, -0.24730374, -0.24730374],\n",
       "        [-0.16302985, -0.01630298, -0.16302985, -0.16302985, -0.01630298,\n",
       "         -0.16302985,  0.13042388,  0.27715074,  0.27715074],\n",
       "        [ 0.01755706,  0.00175571,  0.01755706,  0.01755706,  0.00175571,\n",
       "          0.01755706, -0.01404565, -0.029847  , -0.029847  ],\n",
       "        [ 0.22824179,  0.02282418,  0.22824179,  0.22824179,  0.02282418,\n",
       "          0.22824179, -0.18259343, -0.38801104, -0.38801104],\n",
       "        [-0.08026085, -0.00802608, -0.08026085, -0.08026085, -0.00802608,\n",
       "         -0.08026085,  0.06420868,  0.13644344,  0.13644344],\n",
       "        [ 0.10032606,  0.01003261,  0.10032606,  0.10032606,  0.01003261,\n",
       "          0.10032606, -0.08026085, -0.1705543 , -0.1705543 ],\n",
       "        [ 0.12289942,  0.01228994,  0.12289942,  0.12289942,  0.01228994,\n",
       "          0.12289942, -0.09831954, -0.20892902, -0.20892902],\n",
       "        [-0.18560321, -0.01856032, -0.18560321, -0.18560321, -0.01856032,\n",
       "         -0.18560321,  0.14848257,  0.31552546,  0.31552546],\n",
       "        [-0.18560321, -0.01856032, -0.18560321, -0.18560321, -0.01856032,\n",
       "         -0.18560321,  0.14848257,  0.31552546,  0.31552546]])"
      ]
     },
     "execution_count": 18,
     "metadata": {},
     "output_type": "execute_result"
    }
   ],
   "source": [
    "np.matrix(v11).T * np.matrix(v1)"
   ]
  },
  {
   "cell_type": "code",
   "execution_count": 19,
   "id": "2f525dd0",
   "metadata": {},
   "outputs": [
    {
     "data": {
      "text/plain": [
       "[0.4700369583352917,\n",
       " -0.5267655567550685,\n",
       " 0.0567285984197761,\n",
       " 0.7374717794570949,\n",
       " -0.2593307356332636,\n",
       " 0.3241634195415805,\n",
       " 0.3971001889384358,\n",
       " -0.5997023261519239,\n",
       " -0.5997023261519231]"
      ]
     },
     "execution_count": 19,
     "metadata": {},
     "output_type": "execute_result"
    }
   ],
   "source": [
    "v11"
   ]
  },
  {
   "cell_type": "code",
   "execution_count": null,
   "id": "07184f25",
   "metadata": {},
   "outputs": [],
   "source": []
  },
  {
   "cell_type": "code",
   "execution_count": 20,
   "id": "5e8b315d",
   "metadata": {},
   "outputs": [
    {
     "name": "stdout",
     "output_type": "stream",
     "text": [
      "вектор в десятичной системе:\n",
      "\n",
      "[1, 0, 0, 1, 0, 0, 3, 2, 0]\n",
      "Длина вектора: 0.9999999999999997\n",
      "Сумма компонентов вектора: 1.1102230246251565e-16\n",
      "Центрированный и нормализованный вектор:\n",
      "\n",
      "[0.07188851546895893, -0.25160980414135625, -0.25160980414135625, 0.07188851546895893, -0.25160980414135625, -0.25160980414135625, 0.7188851546895894, 0.3953868350792742, -0.25160980414135625]\n"
     ]
    }
   ],
   "source": [
    "# 01 - вертикаль\n",
    "# 10 - горизонталь\n",
    "\n",
    "# изменный символ \"L\"\n",
    "\n",
    "# Q = [\n",
    "#     11, 11,  0,\n",
    "#     11, 11,  0,\n",
    "#      1,  0,  0\n",
    "# ]\n",
    "# Q = [\n",
    "#     11, 10,  0,\n",
    "#      1,  0,  0,\n",
    "#     11, 10,  0\n",
    "# ]\n",
    "Q = [\n",
    "     1,  0,  0,\n",
    "     1,  0,  0,\n",
    "    11, 10,  0\n",
    "]\n",
    "# q = [11, 10, 11, 11, 10, 10, 11, 10, 11]\n",
    "\n",
    "# Q = [11, 10, 11, 11, 10, 10, 11, 10, 11]\n",
    "\n",
    "\n",
    "vq = list(map(lambda x: int(str(x), 2), Q))\n",
    "print(\"вектор в десятичной системе:\\n\\n\" + str(vq))\n",
    "\n",
    "avgq = sum(vq) / len(vq)\n",
    "vq =  list(map(lambda x: x - avgq, vq))\n",
    "\n",
    "lnq = sum(list(map(lambda x: x*x, vq)))\n",
    "vq =  list(map(lambda x: x / (lnq ** 0.5), vq))\n",
    "\n",
    "lnq = sum(list(map(lambda x: x*x, vq)))\n",
    "\n",
    "print(f\"Длина вектора: {lnq}\")\n",
    "print(f\"Сумма компонентов вектора: {sum(vq)}\")\n",
    "print(\"Центрированный и нормализованный вектор:\\n\\n\" + str(vq))"
   ]
  },
  {
   "cell_type": "code",
   "execution_count": 21,
   "id": "bf0176e1",
   "metadata": {},
   "outputs": [
    {
     "name": "stdout",
     "output_type": "stream",
     "text": [
      "0.3880053895530886 0.0069277077372853725 1.0876501147537\n"
     ]
    }
   ],
   "source": [
    "zeta1 = np.array(v11) @ np.array(vq)\n",
    "zeta2 = np.array(v22) @ np.array(vq)\n",
    "zeta3 = np.array(v33) @ np.array(vq)\n",
    "print(zeta1, zeta2, zeta3)"
   ]
  },
  {
   "cell_type": "code",
   "execution_count": 22,
   "id": "f7097eb6",
   "metadata": {},
   "outputs": [],
   "source": [
    "from scipy.integrate import odeint \n",
    "import matplotlib.pyplot as plt "
   ]
  },
  {
   "cell_type": "code",
   "execution_count": null,
   "id": "4bca897d",
   "metadata": {},
   "outputs": [],
   "source": []
  },
  {
   "cell_type": "code",
   "execution_count": 23,
   "id": "8c4e9f37",
   "metadata": {},
   "outputs": [
    {
     "data": {
      "image/png": "[encoded data removed]",
      "text/plain": [
       "<Figure size 640x480 with 1 Axes>"
      ]
     },
     "metadata": {},
     "output_type": "display_data"
    }
   ],
   "source": [
    "p_arr = [zeta1, zeta2, zeta3]\n",
    "labels = [\"P\", \"C\", \"L\"]\n",
    "\n",
    "# описание ДУ\n",
    "def returns_dpdt1(p, t): \n",
    "    lamb = 1\n",
    "    B = -2\n",
    "    C = 3\n",
    "    p_ex = list(set(p_arr) - set([p_arr[ii]]))\n",
    "    # print(p_ex)\n",
    "    dpdt = lamb * p - B * p * sum(list(map(lambda x: x*2, p_ex))) - C * p * sum(list(map(lambda x: x*2, p_arr)))\n",
    "    return dpdt  \n",
    "    \n",
    "# точки на оси времени\n",
    "t = np.linspace(0,5)\n",
    "\n",
    "for ii in range(3):\n",
    "    # начальное условие \n",
    "    p0 = p_arr[ii]\n",
    "    \n",
    "    # решение ДУ \n",
    "    if ii < 2:\n",
    "        p = odeint(returns_dpdt1, p0, t) \n",
    "        plt.plot(t,p, label=\"эталон \" + labels[ii]) \n",
    "    else:\n",
    "        p = odeint(returns_dpdt1, p0-1, t)\n",
    "        plt.plot(t,p+1, label=\"эталон \" + labels[ii]) \n",
    "    \n",
    "# вывод графика\n",
    "plt.legend()\n",
    "plt.xlabel(\"t\") \n",
    "plt.ylabel(\"p\") \n",
    "plt.show()\n"
   ]
  },
  {
   "cell_type": "code",
   "execution_count": 24,
   "id": "91544c59",
   "metadata": {},
   "outputs": [],
   "source": [
    "# p"
   ]
  },
  {
   "cell_type": "code",
   "execution_count": 26,
   "id": "2e6b8e13",
   "metadata": {},
   "outputs": [
    {
     "name": "stdout",
     "output_type": "stream",
     "text": [
      "[0.0126791]\n"
     ]
    }
   ],
   "source": [
    "print(p[3])"
   ]
  },
  {
   "cell_type": "code",
   "execution_count": 27,
   "id": "cd1f312e",
   "metadata": {},
   "outputs": [],
   "source": [
    "g = np.matrix([[1,2],[3,4]])"
   ]
  },
  {
   "cell_type": "code",
   "execution_count": 28,
   "id": "ddcf3ac5",
   "metadata": {},
   "outputs": [
    {
     "data": {
      "text/plain": [
       "matrix([[1.0000000e+00, 0.0000000e+00],\n",
       "        [8.8817842e-16, 1.0000000e+00]])"
      ]
     },
     "execution_count": 28,
     "metadata": {},
     "output_type": "execute_result"
    }
   ],
   "source": [
    "g*g.I"
   ]
  },
  {
   "cell_type": "code",
   "execution_count": 29,
   "id": "6e53c2d4",
   "metadata": {},
   "outputs": [
    {
     "data": {
      "text/plain": [
       "matrix([[1.00000000e+00, 0.00000000e+00],\n",
       "        [1.11022302e-16, 1.00000000e+00]])"
      ]
     },
     "execution_count": 29,
     "metadata": {},
     "output_type": "execute_result"
    }
   ],
   "source": [
    "g.I * g"
   ]
  },
  {
   "cell_type": "code",
   "execution_count": null,
   "id": "6f3f9a23",
   "metadata": {},
   "outputs": [],
   "source": []
  },
  {
   "cell_type": "code",
   "execution_count": 30,
   "id": "266f82d8",
   "metadata": {},
   "outputs": [],
   "source": [
    "from scipy.optimize import fsolve\n"
   ]
  },
  {
   "cell_type": "code",
   "execution_count": 97,
   "id": "1c8c1458-e1c9-4fab-8a6f-eac78f943543",
   "metadata": {},
   "outputs": [],
   "source": [
    "def nonlinearEquation(p_arr):\n",
    "    F=np.zeros(3)\n",
    "    lamb = 1\n",
    "    B = -2\n",
    "    C = 3\n",
    "    ii = 0\n",
    "    p_ex = list(set(p_arr) - set([p_arr[ii]]))\n",
    "    p = p_arr[ii]\n",
    "    F[0]=lamb * p - B * p * sum(list(map(lambda x: x*2, p_ex))) - C * p * sum(list(map(lambda x: x*2, p_arr)))\n",
    "    ii = 1\n",
    "    p_ex = list(set(p_arr) - set([p_arr[ii]]))\n",
    "    p = p_arr[ii]\n",
    "    F[1]=lamb * p - B * p * sum(list(map(lambda x: x*2, p_ex))) - C * p * sum(list(map(lambda x: x*2, p_arr)))\n",
    "    ii = 2\n",
    "    p_ex = list(set(p_arr) - set([p_arr[ii]]))\n",
    "    p = p_arr[ii]\n",
    "    F[2]=lamb * p - B * p * sum(list(map(lambda x: x*2, p_ex))) - C * p * sum(list(map(lambda x: x*2, p_arr)))\n",
    "    return F"
   ]
  },
  {
   "cell_type": "code",
   "execution_count": 98,
   "id": "534ab271-7dfe-47d2-a80d-04a790e80843",
   "metadata": {},
   "outputs": [],
   "source": [
    "# generate an initial guess\n",
    "initialGuess=np.array(p_arr)   \n",
    " \n",
    "# solve the problem    \n",
    "solutionInfo=fsolve(nonlinearEquation,initialGuess,full_output=1)"
   ]
  },
  {
   "cell_type": "code",
   "execution_count": 99,
   "id": "37df6909-45bc-4e1f-aa5d-239b91ff7f5a",
   "metadata": {},
   "outputs": [
    {
     "data": {
      "text/plain": [
       "array([1.25000000e-01, 8.25357787e-12, 1.25000000e-01])"
      ]
     },
     "execution_count": 99,
     "metadata": {},
     "output_type": "execute_result"
    }
   ],
   "source": [
    "solutionInfo[0]"
   ]
  },
  {
   "cell_type": "code",
   "execution_count": 100,
   "id": "d2cbcd8d-c982-48d3-b331-78b1fa8c9ea7",
   "metadata": {},
   "outputs": [],
   "source": [
    "# plt.plot((p_arr[0]), (F[0]), linestyle='dashed', color='dodgerblue', label='z*=q_1000')"
   ]
  },
  {
   "cell_type": "code",
   "execution_count": 101,
   "id": "3037cce5-f971-4e9c-9e38-c8695db3e12a",
   "metadata": {},
   "outputs": [
    {
     "data": {
      "text/plain": [
       "(array([1.25000000e-01, 8.25357787e-12, 1.25000000e-01]),\n",
       " {'nfev': 24,\n",
       "  'fjac': array([[-0.90713001, -0.09182804, -0.41071006],\n",
       "         [-0.07326771, -0.92654289,  0.36898525],\n",
       "         [ 0.41442368, -0.36480938, -0.83376683]]),\n",
       "  'r': array([ 0.69850474,  0.22682568,  0.33959724, -0.49747769, -0.24257065,\n",
       "          0.71576995]),\n",
       "  'qtf': array([ 7.21293962e-10,  8.42643666e-10, -1.73218059e-10]),\n",
       "  'fvec': array([ 4.21146451e-12,  4.12678894e-12, -8.55288063e-13])},\n",
       " 1,\n",
       " 'The solution converged.')"
      ]
     },
     "execution_count": 101,
     "metadata": {},
     "output_type": "execute_result"
    }
   ],
   "source": [
    "solutionInfo"
   ]
  },
  {
   "cell_type": "code",
   "execution_count": null,
   "id": "7bac1330-cc65-496e-8d5e-ff0acccdfdd8",
   "metadata": {},
   "outputs": [],
   "source": []
  },
  {
   "cell_type": "code",
   "execution_count": null,
   "id": "6005c1f7-74c7-49b7-9d09-5dc55c8f34c8",
   "metadata": {},
   "outputs": [],
   "source": []
  }
 ],
 "metadata": {
  "kernelspec": {
   "display_name": "Python 3 (ipykernel)",
   "language": "python",
   "name": "python3"
  },
  "language_info": {
   "codemirror_mode": {
    "name": "ipython",
    "version": 3
   },
   "file_extension": ".py",
   "mimetype": "text/x-python",
   "name": "python",
   "nbconvert_exporter": "python",
   "pygments_lexer": "ipython3",
   "version": "3.9.0"
  }
 },
 "nbformat": 4,
 "nbformat_minor": 5
}
