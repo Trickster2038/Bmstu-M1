{
 "cells": [
  {
   "cell_type": "code",
   "execution_count": 1,
   "id": "d84be537-6d19-4a59-be33-68f8c7fd6d48",
   "metadata": {},
   "outputs": [],
   "source": [
    "import json\n",
    "from elasticsearch import Elasticsearch"
   ]
  },
  {
   "cell_type": "code",
   "execution_count": 36,
   "id": "96c5bd58-0be9-4bd3-8ab6-09522e92e505",
   "metadata": {},
   "outputs": [
    {
     "data": {
      "text/plain": [
       "True"
      ]
     },
     "execution_count": 36,
     "metadata": {},
     "output_type": "execute_result"
    }
   ],
   "source": [
    "client = Elasticsearch([{\"host\": \"127.0.0.1\", \"scheme\": \"http\", \"port\": 9200}])\n",
    "\n",
    "client.ping()"
   ]
  },
  {
   "cell_type": "code",
   "execution_count": 34,
   "id": "5ea7110b-db30-4063-9ce8-fd057af93de2",
   "metadata": {},
   "outputs": [
    {
     "data": {
      "text/plain": [
       "ObjectApiResponse({'acknowledged': True})"
      ]
     },
     "execution_count": 34,
     "metadata": {},
     "output_type": "execute_result"
    }
   ],
   "source": [
    "indexName = \"medical\"\n",
    "client.indices.delete(index=indexName)\n",
    "# client.indices.create(index=indexName)"
   ]
  },
  {
   "cell_type": "code",
   "execution_count": 28,
   "id": "2d9640a9-0af6-4647-946b-f0d6ca752e81",
   "metadata": {},
   "outputs": [
    {
     "data": {
      "text/plain": [
       "ObjectApiResponse({'acknowledged': True})"
      ]
     },
     "execution_count": 28,
     "metadata": {},
     "output_type": "execute_result"
    }
   ],
   "source": [
    "diseaseMapping = {\n",
    "            \"properties\": {\n",
    "                \"name\": {\n",
    "                    \"type\": \"text\",\n",
    "                    \"fielddata\": True\n",
    "                },\n",
    "                \"title\": {\n",
    "                    \"type\": \"text\",\n",
    "                    \"fielddata\": True\n",
    "                },\n",
    "                \"fulltext\": {\n",
    "                    \"type\": \"text\",\n",
    "                    \"fielddata\": True\n",
    "                }\n",
    "            }\n",
    "}\n",
    "\n",
    "client.indices.put_mapping(index=indexName, \n",
    "                            # doc_type=\"diseases\", \n",
    "                           # include_type_name=\"true\", \n",
    "                           body=diseaseMapping)"
   ]
  },
  {
   "cell_type": "code",
   "execution_count": 30,
   "id": "d6cb8865-88a6-4bf8-ba25-460ad7fe1cf5",
   "metadata": {},
   "outputs": [
    {
     "name": "stdout",
     "output_type": "stream",
     "text": [
      "Connection timed outConnection timed outConnection timed outConnection timed outConnection timed outConnection timed outConnection timed outConnection timed outConnection timed outConnection timed outConnection timed out"
     ]
    },
    {
     "name": "stderr",
     "output_type": "stream",
     "text": [
      "\n",
      "KeyboardInterrupt\n",
      "\n"
     ]
    }
   ],
   "source": [
    "with open('data.json', 'r') as f:\n",
    "    dataStore = json.load(f)\n",
    "\n",
    "for data in dataStore:\n",
    "    try:\n",
    "        client.index(\n",
    "            index=data[\"index\"],\n",
    "            # doc_type=data[\"doc_type\"],\n",
    "            id=data[\"id\"],\n",
    "            body=data[\"body\"]\n",
    "        )\n",
    "    except Exception as e:\n",
    "        print(e, end=\"\")\n",
    "print(\"ok\")"
   ]
  },
  {
   "cell_type": "markdown",
   "id": "dc5a3257-77f3-4786-8822-00cfb557713f",
   "metadata": {},
   "source": [
    "## Запрос 1"
   ]
  },
  {
   "cell_type": "code",
   "execution_count": 39,
   "id": "e86e41c0-ff31-4549-8fcb-8be75be9c459",
   "metadata": {},
   "outputs": [],
   "source": [
    "indexName = \"medical\"\n",
    "docType = \"diseases\"\n",
    "searchFrom = 0\n",
    "searchSize = 3\n",
    "\n",
    "# 1\n",
    "searchBody = {\n",
    "    \"_source\": [\"name\"],\n",
    "    \"query\": {\n",
    "        \"simple_query_string\": {\n",
    "            \"query\": '+fatigue+fever+\"joint pain\"',\n",
    "            \"fields\": [\"fulltext\", \"title^5\", \"name^10\"]\n",
    "        }\n",
    "    }\n",
    "}\n",
    "result = client.search(index=indexName, body=searchBody, from_=searchFrom, size=searchSize)"
   ]
  },
  {
   "cell_type": "code",
   "execution_count": 50,
   "id": "dfe484c1-a5e0-46e1-8aec-6d107c85d098",
   "metadata": {},
   "outputs": [
    {
     "data": {
      "text/plain": [
       "ObjectApiResponse({'took': 8396, 'timed_out': False, '_shards': {'total': 1, 'successful': 1, 'skipped': 0, 'failed': 0}, 'hits': {'total': {'value': 33, 'relation': 'eq'}, 'max_score': 116.35371, 'hits': [{'_index': 'medical', '_id': 'Chronic fatigue syndrome', '_score': 116.35371, '_source': {'name': 'Chronic fatigue syndrome'}}, {'_index': 'medical', '_id': 'Chronic fatigue immune dysfunction syndrome', '_score': 99.84779, '_source': {'name': 'Chronic fatigue immune dysfunction syndrome'}}, {'_index': 'medical', '_id': 'Encephalomyelitis, myalgic', '_score': 39.252914, '_source': {'name': 'Encephalomyelitis, myalgic'}}]}})"
      ]
     },
     "execution_count": 50,
     "metadata": {},
     "output_type": "execute_result"
    }
   ],
   "source": [
    "result"
   ]
  },
  {
   "cell_type": "code",
   "execution_count": 52,
   "id": "cc2dc825-9c15-481b-80a0-8a02a205ec9e",
   "metadata": {},
   "outputs": [
    {
     "data": {
      "text/plain": [
       "{'total': {'value': 33, 'relation': 'eq'},\n",
       " 'max_score': 116.35371,\n",
       " 'hits': [{'_index': 'medical',\n",
       "   '_id': 'Chronic fatigue syndrome',\n",
       "   '_score': 116.35371,\n",
       "   '_source': {'name': 'Chronic fatigue syndrome'}},\n",
       "  {'_index': 'medical',\n",
       "   '_id': 'Chronic fatigue immune dysfunction syndrome',\n",
       "   '_score': 99.84779,\n",
       "   '_source': {'name': 'Chronic fatigue immune dysfunction syndrome'}},\n",
       "  {'_index': 'medical',\n",
       "   '_id': 'Encephalomyelitis, myalgic',\n",
       "   '_score': 39.252914,\n",
       "   '_source': {'name': 'Encephalomyelitis, myalgic'}}]}"
      ]
     },
     "execution_count": 52,
     "metadata": {},
     "output_type": "execute_result"
    }
   ],
   "source": [
    "result['hits']"
   ]
  },
  {
   "cell_type": "code",
   "execution_count": null,
   "id": "73d08115-a871-47e9-a93d-d1c4f2b170da",
   "metadata": {},
   "outputs": [],
   "source": []
  },
  {
   "cell_type": "markdown",
   "id": "93b7c95d-c3bb-4e6d-8339-a8fa3371d700",
   "metadata": {},
   "source": [
    "## Запрос 4"
   ]
  },
  {
   "cell_type": "code",
   "execution_count": 53,
   "id": "bf792e6c-7171-48ce-86cc-0b0eb68037e5",
   "metadata": {},
   "outputs": [
    {
     "data": {
      "text/plain": [
       "ObjectApiResponse({'took': 4884, 'timed_out': False, '_shards': {'total': 1, 'successful': 1, 'skipped': 0, 'failed': 0}, 'hits': {'total': {'value': 31, 'relation': 'eq'}, 'max_score': 5.9901114, 'hits': [{'_index': 'medical', '_id': 'Diabetes insipidus', '_score': 5.9901114, '_source': {'name': 'Diabetes insipidus'}}, {'_index': 'medical', '_id': 'Diabetes mellitus', '_score': 5.9901114, '_source': {'name': 'Diabetes mellitus'}}, {'_index': 'medical', '_id': 'Phosphate diabetes', '_score': 5.9901114, '_source': {'name': 'Phosphate diabetes'}}]}, 'aggregations': {'DiseaseKeywords': {'doc_count': 31, 'bg_count': 5540, 'buckets': [{'key': 'siphon', 'doc_count': 10, 'score': 52.08494938984013, 'bg_count': 11}, {'key': 'diabainein', 'doc_count': 9, 'score': 51.59313215400625, 'bg_count': 9}, {'key': 'bainein', 'doc_count': 9, 'score': 51.59313215400625, 'bg_count': 9}, {'key': 'ndi', 'doc_count': 8, 'score': 45.86056191467221, 'bg_count': 8}, {'key': 'passer', 'doc_count': 9, 'score': 42.159776747706, 'bg_count': 11}, {'key': 'sapere', 'doc_count': 7, 'score': 40.127991675338194, 'bg_count': 7}, {'key': 'tasty', 'doc_count': 7, 'score': 40.127991675338194, 'bg_count': 7}, {'key': 'sapidus', 'doc_count': 7, 'score': 40.127991675338194, 'bg_count': 7}, {'key': 'avp', 'doc_count': 8, 'score': 36.636836628511965, 'bg_count': 10}, {'key': 'defect.the', 'doc_count': 6, 'score': 34.39542143600416, 'bg_count': 6}]}}})"
      ]
     },
     "execution_count": 53,
     "metadata": {},
     "output_type": "execute_result"
    }
   ],
   "source": [
    "searchBody={\n",
    "      \"_source\": [\"name\"],\n",
    "      \"query\": {\n",
    "              \"query_string\" :  {\n",
    "                         \"query\": \"name: diabetes\"\n",
    "               }\n",
    "       },\n",
    "       \"aggregations\" : {\n",
    "              \"DiseaseKeywords\" : {\n",
    "                   \"significant_terms\" : { \"field\" : \"fulltext\", \"size\" : 10 }\n",
    "               }\n",
    "       }\n",
    "   }\n",
    "result=client.search(index=indexName, body=searchBody, from_ = searchFrom, size=searchSize)\n",
    "result"
   ]
  },
  {
   "cell_type": "code",
   "execution_count": 60,
   "id": "d102bbe0-be27-4235-ad24-c7ce0f7a8a45",
   "metadata": {},
   "outputs": [
    {
     "data": {
      "text/plain": [
       "{'total': {'value': 31, 'relation': 'eq'},\n",
       " 'max_score': 5.9901114,\n",
       " 'hits': [{'_index': 'medical',\n",
       "   '_id': 'Diabetes insipidus',\n",
       "   '_score': 5.9901114,\n",
       "   '_source': {'name': 'Diabetes insipidus'}},\n",
       "  {'_index': 'medical',\n",
       "   '_id': 'Diabetes mellitus',\n",
       "   '_score': 5.9901114,\n",
       "   '_source': {'name': 'Diabetes mellitus'}},\n",
       "  {'_index': 'medical',\n",
       "   '_id': 'Phosphate diabetes',\n",
       "   '_score': 5.9901114,\n",
       "   '_source': {'name': 'Phosphate diabetes'}}]}"
      ]
     },
     "execution_count": 60,
     "metadata": {},
     "output_type": "execute_result"
    }
   ],
   "source": [
    "result['hits']"
   ]
  },
  {
   "cell_type": "code",
   "execution_count": 59,
   "id": "043a67e3-47fd-472e-89a5-8c1fef9c3f95",
   "metadata": {},
   "outputs": [
    {
     "data": {
      "text/plain": [
       "{'doc_count': 31,\n",
       " 'bg_count': 5540,\n",
       " 'buckets': [{'key': 'siphon',\n",
       "   'doc_count': 10,\n",
       "   'score': 52.08494938984013,\n",
       "   'bg_count': 11},\n",
       "  {'key': 'diabainein',\n",
       "   'doc_count': 9,\n",
       "   'score': 51.59313215400625,\n",
       "   'bg_count': 9},\n",
       "  {'key': 'bainein',\n",
       "   'doc_count': 9,\n",
       "   'score': 51.59313215400625,\n",
       "   'bg_count': 9},\n",
       "  {'key': 'ndi', 'doc_count': 8, 'score': 45.86056191467221, 'bg_count': 8},\n",
       "  {'key': 'passer', 'doc_count': 9, 'score': 42.159776747706, 'bg_count': 11},\n",
       "  {'key': 'sapere',\n",
       "   'doc_count': 7,\n",
       "   'score': 40.127991675338194,\n",
       "   'bg_count': 7},\n",
       "  {'key': 'tasty', 'doc_count': 7, 'score': 40.127991675338194, 'bg_count': 7},\n",
       "  {'key': 'sapidus',\n",
       "   'doc_count': 7,\n",
       "   'score': 40.127991675338194,\n",
       "   'bg_count': 7},\n",
       "  {'key': 'avp', 'doc_count': 8, 'score': 36.636836628511965, 'bg_count': 10},\n",
       "  {'key': 'defect.the',\n",
       "   'doc_count': 6,\n",
       "   'score': 34.39542143600416,\n",
       "   'bg_count': 6}]}"
      ]
     },
     "execution_count": 59,
     "metadata": {},
     "output_type": "execute_result"
    }
   ],
   "source": [
    "result['aggregations']['DiseaseKeywords']"
   ]
  },
  {
   "cell_type": "code",
   "execution_count": null,
   "id": "0b065ec9-46d5-468f-9a97-02c40a7aa0e9",
   "metadata": {},
   "outputs": [],
   "source": []
  }
 ],
 "metadata": {
  "kernelspec": {
   "display_name": "Python 3 (ipykernel)",
   "language": "python",
   "name": "python3"
  },
  "language_info": {
   "codemirror_mode": {
    "name": "ipython",
    "version": 3
   },
   "file_extension": ".py",
   "mimetype": "text/x-python",
   "name": "python",
   "nbconvert_exporter": "python",
   "pygments_lexer": "ipython3",
   "version": "3.9.0"
  }
 },
 "nbformat": 4,
 "nbformat_minor": 5
}
